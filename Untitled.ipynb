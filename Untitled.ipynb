{
 "cells": [
  {
   "cell_type": "code",
   "execution_count": null,
   "id": "2cd25062",
   "metadata": {},
   "outputs": [],
   "source": [
    "import pandas as pd\n",
    "import os"
   ]
  },
  {
   "cell_type": "code",
   "execution_count": null,
   "id": "6e3e3d00",
   "metadata": {},
   "outputs": [],
   "source": [
    "file_path = input(\"Veuillez saisir le chemin des fichiers : \")"
   ]
  },
  {
   "cell_type": "code",
   "execution_count": null,
   "id": "f1520f2c",
   "metadata": {},
   "outputs": [],
   "source": [
    "try:\n",
    "    df = pd.read_csv(file_path)\n",
    "except:\n",
    "    print(\"Impossible de charger veuillez spécifier le chemin correcte du fichier csv\")"
   ]
  },
  {
   "cell_type": "code",
   "execution_count": null,
   "id": "5ca093bb",
   "metadata": {},
   "outputs": [],
   "source": [
    "print(\"Veuillez choisir l'opération que vous voulez effectuer selon le Menu suivant : \")\n",
    "print(\"1 : Afficher un résumé sur les données\")\n",
    "print(\"2 : Tracer une colone donnée\")\n",
    "print(\"3 : Faire des calculs de base\")\n",
    "print(\"Un choix diférrent de ces 3 pour quitter le programme\")"
   ]
  },
  {
   "cell_type": "code",
   "execution_count": null,
   "id": "c1750014",
   "metadata": {},
   "outputs": [],
   "source": [
    "opt = int(input(\"votre choix : \"))\n",
    "conti = True"
   ]
  },
  {
   "cell_type": "code",
   "execution_count": null,
   "id": "c59f6d06",
   "metadata": {},
   "outputs": [],
   "source": [
    "if opt == 1:\n",
    "    print(\"types de données : \\n\",df.dtypes)\n",
    "    print(\"liste des colonnes : \\n\",df.columns)\n",
    "    print(\"nombre de lignes : \",len(df))\n",
    "    print(\"list des valeurs distinctes pour chaque colonnes :\\n\")\n",
    "    for col in df.columns:\n",
    "        print(\"Colonne \",col,\" : \",  df[col].unique())\n",
    "    print(\"description des colonnes nmérique : \\n\",df.describe())\n",
    "elif opt == 2:\n",
    "    print(\"veuillez choisir le type de plot : \")\n",
    "    print(\"1 : histogramme\")\n",
    "    print(\"2 : bar\")\n",
    "    print(\"3 : bar horizontal\")\n",
    "    choice = int(input(\"Votre choix : \"))\n",
    "    if choice == 1:\n",
    "        df.hist()\n",
    "    elif choice == 2:\n",
    "        df.plot(kind=\"bar\",subplots=True)\n",
    "    elif choice == 3:\n",
    "        df.plot(kind=\"barh\",subplots=True)\n",
    "    else:\n",
    "        print(\"Choix inconnue\")\n",
    "elif opt == 3:\n",
    "    print(\"Veuillez patienter\")\n",
    "else:\n",
    "    print(\"Au revoir\")"
   ]
  },
  {
   "cell_type": "code",
   "execution_count": null,
   "id": "40d93fdc",
   "metadata": {},
   "outputs": [],
   "source": []
  },
  {
   "cell_type": "code",
   "execution_count": null,
   "id": "5470e2f3",
   "metadata": {},
   "outputs": [],
   "source": []
  },
  {
   "cell_type": "code",
   "execution_count": null,
   "id": "03f57546",
   "metadata": {},
   "outputs": [],
   "source": []
  },
  {
   "cell_type": "code",
   "execution_count": null,
   "id": "17b76e08",
   "metadata": {},
   "outputs": [],
   "source": []
  }
 ],
 "metadata": {
  "kernelspec": {
   "display_name": "Python 3",
   "language": "python",
   "name": "python3"
  },
  "language_info": {
   "codemirror_mode": {
    "name": "ipython",
    "version": 3
   },
   "file_extension": ".py",
   "mimetype": "text/x-python",
   "name": "python",
   "nbconvert_exporter": "python",
   "pygments_lexer": "ipython3",
   "version": "3.8.8"
  }
 },
 "nbformat": 4,
 "nbformat_minor": 5
}
